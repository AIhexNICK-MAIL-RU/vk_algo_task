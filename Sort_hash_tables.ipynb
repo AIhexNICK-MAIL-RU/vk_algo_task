{
  "nbformat": 4,
  "nbformat_minor": 0,
  "metadata": {
    "colab": {
      "provenance": []
    },
    "kernelspec": {
      "name": "python3",
      "display_name": "Python 3"
    },
    "language_info": {
      "name": "python"
    }
  },
  "cells": [
    {
      "cell_type": "markdown",
      "source": [
        "# найти корень числа (ближайшее целое)"
      ],
      "metadata": {
        "id": "asgAZuxL_qTq"
      }
    },
    {
      "cell_type": "code",
      "execution_count": 4,
      "metadata": {
        "colab": {
          "base_uri": "https://localhost:8080/"
        },
        "id": "jRrV8PON9OBM",
        "outputId": "7dd1e5c7-8018-4819-f2a1-4c4c97d885d1"
      },
      "outputs": [
        {
          "output_type": "stream",
          "name": "stdout",
          "text": [
            "Тест 1: 4\n",
            "Тест 2: 3\n"
          ]
        }
      ],
      "source": [
        "def binarySearchSqrt(target):\n",
        "    if target < 0:\n",
        "        return None\n",
        "    if target < 2:\n",
        "        return target\n",
        "\n",
        "    left = 0\n",
        "    right = target\n",
        "\n",
        "    while left <= right:\n",
        "        middle = (left + right) // 2\n",
        "        square = middle * middle\n",
        "\n",
        "        if square == target:\n",
        "            return middle\n",
        "        elif square > target:\n",
        "            right = middle - 1\n",
        "        else:\n",
        "            left = middle + 1\n",
        "\n",
        "    return right\n",
        "\n",
        "# Тест 1: идеальный квадрат\n",
        "print(\"Тест 1:\", binarySearchSqrt(16))  # Должно вывести: 4\n",
        "\n",
        "# Тест 2: не идеальный квадрат\n",
        "print(\"Тест 2:\", binarySearchSqrt(11))  # Должно вывести: 3"
      ]
    },
    {
      "cell_type": "code",
      "source": [],
      "metadata": {
        "id": "HLoubIwn9eqz"
      },
      "execution_count": null,
      "outputs": []
    },
    {
      "cell_type": "markdown",
      "source": [
        "# очень легкая задача"
      ],
      "metadata": {
        "id": "EU1kbIXR_mro"
      }
    },
    {
      "cell_type": "code",
      "source": [
        "def copyTime(n, x, y):\n",
        "    l = 0\n",
        "    r = (n - 1) * max(x, y)\n",
        "\n",
        "    while l + 1 < r:\n",
        "        mid = (r + l) // 2\n",
        "        if mid/x + mid/y < n-1:\n",
        "            l = mid\n",
        "        else:\n",
        "            r = mid\n",
        "\n",
        "    return r + min(x, y)\n",
        "\n",
        "# Тест 1: базовый случай\n",
        "print(\"Тест 1: copyTime(3, 2, 3) =\", copyTime(3, 2, 3))\n",
        "\n",
        "# Тест 2: случай с большими числами\n",
        "print(\"Тест 2: copyTime(5, 4, 6) =\", copyTime(5, 4, 6))"
      ],
      "metadata": {
        "colab": {
          "base_uri": "https://localhost:8080/"
        },
        "id": "BGW_3VUB9yBI",
        "outputId": "afb13f36-742c-4c81-b4a2-0341ca40aaa9"
      },
      "execution_count": 3,
      "outputs": [
        {
          "output_type": "stream",
          "name": "stdout",
          "text": [
            "Тест 1: copyTime(3, 2, 3) = 5\n",
            "Тест 2: copyTime(5, 4, 6) = 14\n"
          ]
        }
      ]
    },
    {
      "cell_type": "markdown",
      "source": [
        "# накормить животных"
      ],
      "metadata": {
        "id": "iVjcPEjb_C-I"
      }
    },
    {
      "cell_type": "code",
      "source": [],
      "metadata": {
        "id": "xgN84lsd_CgF"
      },
      "execution_count": null,
      "outputs": []
    },
    {
      "cell_type": "code",
      "source": [
        "def feedAnimals(animals, food):\n",
        "    if len(animals) == 0 or len(food) == 0:\n",
        "        return 0\n",
        "\n",
        "    animals.sort()\n",
        "    food.sort()\n",
        "    count = 0\n",
        "\n",
        "    for f in food:\n",
        "        if f >= animals[count]:\n",
        "            count += 1\n",
        "        if count == len(animals):\n",
        "            break\n",
        "\n",
        "    return count\n",
        "\n",
        "# Тест 1: базовый случай\n",
        "print(\"Тест 1:\", feedAnimals([1, 2, 3], [1, 2, 3, 4]))  # Должно вывести: 3\n",
        "\n",
        "# Тест 2: недостаточно еды\n",
        "print(\"Тест 2:\", feedAnimals([1, 2, 3], [1, 1]))  # Должно вывести: 2"
      ],
      "metadata": {
        "colab": {
          "base_uri": "https://localhost:8080/"
        },
        "id": "N5zmlZMK-VQ6",
        "outputId": "1185c35c-89c6-43af-89f0-6a8b9d9a0efb"
      },
      "execution_count": 5,
      "outputs": [
        {
          "output_type": "stream",
          "name": "stdout",
          "text": [
            "Тест 1: 3\n",
            "Тест 2: 1\n"
          ]
        }
      ]
    },
    {
      "cell_type": "markdown",
      "source": [
        "# найти разницу между строк"
      ],
      "metadata": {
        "id": "JDDfUhTm-9Dc"
      }
    },
    {
      "cell_type": "code",
      "source": [
        "def extraLetter(a, b):\n",
        "    # Создаем словарь для подсчета символов в строке a\n",
        "    char_count = {}\n",
        "    for char in a:\n",
        "        char_count[char] = char_count.get(char, 0) + 1\n",
        "\n",
        "    # Проходим по строке b и уменьшаем счетчики\n",
        "    for char in b:\n",
        "        if char in char_count:\n",
        "            char_count[char] -= 1\n",
        "            # Удаляем символ, если его счетчик стал 0\n",
        "            if char_count[char] == 0:\n",
        "                del char_count[char]\n",
        "            continue\n",
        "        # Если символ не найден в словаре, это и есть лишний символ\n",
        "        return char\n",
        "\n",
        "    # Если дошли до конца и словарь не пуст, значит лишнего символа нет\n",
        "    return \"\"\n",
        "\n",
        "# Тест 1: есть лишний символ\n",
        "print(\"Тест 1:\", extraLetter(\"abcd\", \"abcde\"))  # Должно вывести: e\n",
        "\n",
        "# Тест 2: лишнего символа нет\n",
        "print(\"Тест 2:\", extraLetter(\"hello\", \"hello\"))  # Должно вывести: \"\""
      ],
      "metadata": {
        "colab": {
          "base_uri": "https://localhost:8080/"
        },
        "id": "h4Vgh1Pv-jij",
        "outputId": "f12b8f55-77ed-4293-8fb6-21b81569e64f"
      },
      "execution_count": 6,
      "outputs": [
        {
          "output_type": "stream",
          "name": "stdout",
          "text": [
            "Тест 1: e\n",
            "Тест 2: \n"
          ]
        }
      ]
    },
    {
      "cell_type": "markdown",
      "source": [
        "# Сумма двух элементов"
      ],
      "metadata": {
        "id": "6b8pkck1AAS9"
      }
    },
    {
      "cell_type": "code",
      "source": [
        "def twoSum(data, target):\n",
        "    # Создаем словарь для хранения пар (значение, индекс)\n",
        "    cache = {}\n",
        "\n",
        "    # Заполняем кэш и ищем пары одновременно\n",
        "    for i in range(len(data)):\n",
        "        diff = target - data[i]\n",
        "        if diff in cache:\n",
        "            return [cache[diff], i]\n",
        "        cache[data[i]] = i\n",
        "\n",
        "    return []\n",
        "\n",
        "# Тест 1: есть пара чисел\n",
        "print(\"Тест 1:\", twoSum([2, 7, 11, 15], 9))  # Должно вывести: [0, 1]\n",
        "\n",
        "# Тест 2: нет пары чисел\n",
        "print(\"Тест 2:\", twoSum([2, 7, 11, 15], 100))  # Должно вывести: []"
      ],
      "metadata": {
        "colab": {
          "base_uri": "https://localhost:8080/"
        },
        "id": "JOSjcf6sAAjf",
        "outputId": "a0bf2835-d9bb-47f7-ced8-a7d7901d98ed"
      },
      "execution_count": 7,
      "outputs": [
        {
          "output_type": "stream",
          "name": "stdout",
          "text": [
            "Тест 1: [0, 1]\n",
            "Тест 2: []\n"
          ]
        }
      ]
    },
    {
      "cell_type": "markdown",
      "source": [
        "# Сортировка Шелла"
      ],
      "metadata": {
        "id": "CR9KW8irASuI"
      }
    },
    {
      "cell_type": "code",
      "source": [
        "def shell_sort(arr):\n",
        "    n = len(arr)\n",
        "    gap = n // 2\n",
        "\n",
        "    while gap > 0:\n",
        "        for current_position in range(gap, n):\n",
        "            m_gap = current_position\n",
        "            while m_gap >= gap and arr[m_gap] < arr[m_gap - gap]:\n",
        "                arr[m_gap], arr[m_gap - gap] = arr[m_gap - gap], arr[m_gap]\n",
        "                m_gap -= gap\n",
        "        gap //= 2\n",
        "\n",
        "    return arr\n",
        "\n",
        "# Тест 1: массив с повторяющимися элементами\n",
        "print(\"Тест 1:\", shell_sort([5, 2, 8, 1, 9, 3, 7, 6, 4, 5, 2]))\n",
        "\n",
        "# Тест 2: уже отсортированный массив\n",
        "print(\"Тест 2:\", shell_sort([1, 2, 3, 4, 5, 6, 7, 8, 9]))"
      ],
      "metadata": {
        "colab": {
          "base_uri": "https://localhost:8080/"
        },
        "id": "aswnqHc1AS9b",
        "outputId": "6a92e405-77d7-4d81-fcba-809fb6ccec60"
      },
      "execution_count": 8,
      "outputs": [
        {
          "output_type": "stream",
          "name": "stdout",
          "text": [
            "Тест 1: [1, 2, 2, 3, 4, 5, 5, 6, 7, 8, 9]\n",
            "Тест 2: [1, 2, 3, 4, 5, 6, 7, 8, 9]\n"
          ]
        }
      ]
    },
    {
      "cell_type": "markdown",
      "source": [
        "# Массив анаграмм"
      ],
      "metadata": {
        "id": "Q9ODGsmlAixC"
      }
    },
    {
      "cell_type": "code",
      "source": [
        "def group_anagrams(strs):\n",
        "    # Создаем словарь для группировки анаграмм\n",
        "    anagrams = {}\n",
        "\n",
        "    # Проходим по каждой строке в входном массиве\n",
        "    for word in strs:\n",
        "        # Создаем ключ, сортируя буквы в слове\n",
        "        sorted_word = ''.join(sorted(word))\n",
        "\n",
        "        # Добавляем слово в соответствующую группу\n",
        "        if sorted_word in anagrams:\n",
        "            anagrams[sorted_word].append(word)\n",
        "        else:\n",
        "            anagrams[sorted_word] = [word]\n",
        "\n",
        "    # Возвращаем список групп\n",
        "    return list(anagrams.values())\n",
        "\n",
        "# Тест 1: базовый случай\n",
        "print(\"Тест 1:\", group_anagrams([\"eat\", \"tea\", \"tan\", \"ate\", \"nat\", \"bat\"]))\n",
        "# Должно вывести: [[\"eat\", \"tea\", \"ate\"], [\"tan\", \"nat\"], [\"bat\"]]\n",
        "\n",
        "# Тест 2: случай с повторяющимися буквами\n",
        "print(\"Тест 2:\", group_anagrams([\"won\", \"now\", \"aaa\", \"ooo\", \"ooo\"]))\n",
        "# Должно вывести: [[\"won\", \"now\"], [\"aaa\"], [\"ooo\", \"ooo\"]]"
      ],
      "metadata": {
        "colab": {
          "base_uri": "https://localhost:8080/"
        },
        "id": "c-j9U9ExAkSH",
        "outputId": "f56a9008-f07d-44db-e874-facdcb8caba1"
      },
      "execution_count": 9,
      "outputs": [
        {
          "output_type": "stream",
          "name": "stdout",
          "text": [
            "Тест 1: [['eat', 'tea', 'ate'], ['tan', 'nat'], ['bat']]\n",
            "Тест 2: [['won', 'now'], ['aaa'], ['ooo', 'ooo']]\n"
          ]
        }
      ]
    }
  ]
}